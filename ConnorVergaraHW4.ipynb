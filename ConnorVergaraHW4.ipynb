{
 "cells": [
  {
   "cell_type": "markdown",
   "metadata": {},
   "source": [
    "# PyCity Schools Analysis\n",
    "\n",
    "* As a whole, large sized schools dramatically underperformed in terms of overall passing rate, trailing small and medium sized schools by nearly 20 percentage points (76.4 vs 94.8, 95.2).\n",
    "\n",
    "* Although the average math score for district vs. charter schools was only less than seven points different (77.0 vs. 83.5), the percentage of students passing math differed by nearly 30 percentage points (66.5 vs. 93.6).\n",
    "\n",
    "* The students at the five bottom performing schools in terms of overall passing rate represented 44.3% (17,365 out of 39,170) of the entire population of the 15-school district.\n",
    "---"
   ]
  },
  {
   "cell_type": "markdown",
   "metadata": {},
   "source": [
    "### Note\n",
    "* Instructions have been included for each segment. You do not have to follow them exactly, but they are included to help you think through the steps."
   ]
  },
  {
   "cell_type": "code",
   "execution_count": null,
   "metadata": {},
   "outputs": [],
   "source": [
    "import pandas as pd\n",
    "\n",
    "school_data_to_load = \"Resources/schools_complete.csv\"\n",
    "student_data_to_load = \"Resources/students_complete.csv\"\n",
    "school_data = pd.read_csv(school_data_to_load)\n",
    "student_data = pd.read_csv(student_data_to_load)\n",
    "school_data_complete = pd.merge(student_data, school_data, how=\"left\", on=[\"school_name\", \"school_name\"])"
   ]
  },
  {
   "cell_type": "markdown",
   "metadata": {},
   "source": [
    "## District Summary\n",
    "\n",
    "* Calculate the total number of schools\n",
    "\n",
    "* Calculate the total number of students\n",
    "\n",
    "* Calculate the total budget\n",
    "\n",
    "* Calculate the average math score \n",
    "\n",
    "* Calculate the average reading score\n",
    "\n",
    "* Calculate the overall passing rate (overall average score), i.e. (avg. math score + avg. reading score)/2\n",
    "\n",
    "* Calculate the percentage of students with a passing math score (70 or greater)\n",
    "\n",
    "* Calculate the percentage of students with a passing reading score (70 or greater)\n",
    "\n",
    "* Create a dataframe to hold the above results\n",
    "\n",
    "* Optional: give the displayed data cleaner formatting"
   ]
  },
  {
   "cell_type": "code",
   "execution_count": null,
   "metadata": {},
   "outputs": [],
   "source": [
    "district_total_schools = school_data[\"School ID\"].count()\n",
    "district_total_students = student_data[\"Student ID\"].count()\n",
    "district_total_budget = school_data[\"budget\"].sum()\n",
    "district_average_math = student_data[\"math_score\"].mean()\n",
    "district_average_reading = student_data[\"reading_score\"].mean()\n",
    "district_overall_passing_rate = (district_average_math + district_average_reading)/2\n",
    "district_math_passed = len(student_data[student_data[\"math_score\"] >= 70])\n",
    "district_reading_passed = len(student_data[student_data[\"reading_score\"] >= 70])\n",
    "district_math_passing_rate = (district_math_passed/district_total_students)*100\n",
    "district_reading_passing_rate = (district_reading_passed/district_total_students)*100\n",
    "\n",
    "district_summary_df = pd.DataFrame([{\"Total Schools\": district_total_schools,\n",
    "                       \"Total Students\": district_total_students,\n",
    "                       \"Total Budget\": district_total_budget,\n",
    "                       \"Average Math Score\": district_average_math,\n",
    "                       \"Average Reading Score\": district_average_reading,\n",
    "                       \"% Passing Math\": district_math_passing_rate,\n",
    "                       \"% Passing Reading\": district_reading_passing_rate,\n",
    "                       \"% Overall Passing Rate\": district_overall_passing_rate}])\n",
    "                       \n",
    "district_summary_df = district_summary_df[[\"Total Schools\", \"Total Students\", \"Total Budget\", \"Average Math Score\", \"Average Reading Score\", \"% Passing Math\", \"% Passing Reading\", \"% Overall Passing Rate\"]]\n",
    "district_summary_df[\"Total Students\"] = district_summary_df[\"Total Students\"].map(\"{:,}\".format)\n",
    "district_summary_df[\"Total Budget\"] = district_summary_df[\"Total Budget\"].map(\"${:,.2f}\".format)\n",
    "district_summary_df"
   ]
  },
  {
   "cell_type": "markdown",
   "metadata": {},
   "source": [
    "## School Summary"
   ]
  },
  {
   "cell_type": "markdown",
   "metadata": {},
   "source": [
    "* Create an overview table that summarizes key metrics about each school, including:\n",
    "  * School Name\n",
    "  * School Type\n",
    "  * Total Students\n",
    "  * Total School Budget\n",
    "  * Per Student Budget\n",
    "  * Average Math Score\n",
    "  * Average Reading Score\n",
    "  * % Passing Math\n",
    "  * % Passing Reading\n",
    "  * Overall Passing Rate (Average of the above two)\n",
    "  \n",
    "* Create a dataframe to hold the above results"
   ]
  },
  {
   "cell_type": "code",
   "execution_count": null,
   "metadata": {},
   "outputs": [],
   "source": [
    "grouped_by_school = school_data_complete.groupby(\"school_name\")\n",
    "\n",
    "school_types = school_data.set_index(\"school_name\")[\"type\"]\n",
    "school_student_totals = grouped_by_school[\"Student ID\"].count()\n",
    "school_budget = school_data.set_index(\"school_name\")[\"budget\"]\n",
    "school_size = school_data.set_index(\"school_name\")[\"size\"]\n",
    "budget_per_student = school_budget/school_size\n",
    "school_average_math = grouped_by_school[\"math_score\"].mean()\n",
    "school_average_reading = grouped_by_school[\"reading_score\"].mean()\n",
    "school_math_passed = school_data_complete[school_data_complete[\"math_score\"] >= 70].groupby(\"school_name\")[\"Student ID\"].count()\n",
    "school_reading_passed = school_data_complete[school_data_complete[\"reading_score\"] >= 70].groupby(\"school_name\")[\"Student ID\"].count()\n",
    "school_math_passing_rate = (school_math_passed/school_student_totals)*100\n",
    "school_reading_passing_rate = (school_reading_passed/school_student_totals)*100\n",
    "school_overall_passing_rate = (school_math_passing_rate+school_reading_passing_rate)/2\n",
    "\n",
    "school_summary_df = pd.DataFrame({\"School Type\": school_types,\n",
    "                       \"Total Students\": school_student_totals,\n",
    "                       \"Total School Budget\": school_budget,\n",
    "                       \"Per Student Budget\": budget_per_student,\n",
    "                       \"Average Math Score\": school_average_math,\n",
    "                       \"Average Reading Score\": school_average_reading,\n",
    "                       \"% Passing Math\": school_math_passing_rate,\n",
    "                       \"% Passing Reading\": school_reading_passing_rate,\n",
    "                       \"% Overall Passing Rate\": school_overall_passing_rate})\n",
    "\n",
    "school_summary_formatted_df = school_summary_df\n",
    "school_summary_formatted_df[\"Total School Budget\"] = school_summary_formatted_df[\"Total School Budget\"].map(\"${:,.2f}\".format)\n",
    "school_summary_formatted_df[\"Per Student Budget\"] = school_summary_formatted_df[\"Per Student Budget\"].map(\"${:,.2f}\".format)\n",
    "school_summary_formatted_df[\"Total Students\"] = school_summary_formatted_df[\"Total Students\"].map(\"{:,}\".format)\n",
    "school_summary_formatted_df"
   ]
  },
  {
   "cell_type": "markdown",
   "metadata": {},
   "source": [
    "## Top Performing Schools (By Passing Rate)"
   ]
  },
  {
   "cell_type": "markdown",
   "metadata": {},
   "source": [
    "* Sort and display the top five schools in overall passing rate"
   ]
  },
  {
   "cell_type": "code",
   "execution_count": null,
   "metadata": {},
   "outputs": [],
   "source": [
    "top_performing_df = school_summary_formatted_df.sort_values(\"% Overall Passing Rate\", ascending=False)\n",
    "top_performing_df.head()"
   ]
  },
  {
   "cell_type": "markdown",
   "metadata": {},
   "source": [
    "## Bottom Performing Schools (By Passing Rate)"
   ]
  },
  {
   "cell_type": "markdown",
   "metadata": {},
   "source": [
    "* Sort and display the five worst-performing schools"
   ]
  },
  {
   "cell_type": "code",
   "execution_count": null,
   "metadata": {},
   "outputs": [],
   "source": [
    "bottom_performing_df = school_summary_formatted_df.sort_values(\"% Overall Passing Rate\")\n",
    "bottom_performing_df.head()"
   ]
  },
  {
   "cell_type": "markdown",
   "metadata": {
    "collapsed": true
   },
   "source": [
    "## Math Scores by Grade"
   ]
  },
  {
   "cell_type": "markdown",
   "metadata": {},
   "source": [
    "* Create a table that lists the average Reading Score for students of each grade level (9th, 10th, 11th, 12th) at each school.\n",
    "\n",
    "  * Create a pandas series for each grade. Hint: use a conditional statement.\n",
    "  \n",
    "  * Group each series by school\n",
    "  \n",
    "  * Combine the series into a dataframe\n",
    "  \n",
    "  * Optional: give the displayed data cleaner formatting"
   ]
  },
  {
   "cell_type": "code",
   "execution_count": null,
   "metadata": {},
   "outputs": [],
   "source": [
    "ninth_math_scores = student_data.loc[student_data[\"grade\"] == \"9th\"].groupby(\"school_name\")[\"math_score\"].mean()\n",
    "tenth_math_scores = student_data.loc[student_data[\"grade\"] == \"10th\"].groupby(\"school_name\")[\"math_score\"].mean()\n",
    "eleventh_math_scores = student_data.loc[student_data[\"grade\"] == \"11th\"].groupby(\"school_name\")[\"math_score\"].mean()\n",
    "twelfth_math_scores = student_data.loc[student_data[\"grade\"] == \"12th\"].groupby(\"school_name\")[\"math_score\"].mean()\n",
    "\n",
    "math_scores_by_grade_df = pd.DataFrame({\"9th\": ninth_math_scores,\n",
    "                       \"10th\": tenth_math_scores,\n",
    "                       \"11th\": eleventh_math_scores,\n",
    "                       \"12th\": twelfth_math_scores})\n",
    "del math_scores_by_grade_df.index.name                       \n",
    "math_scores_by_grade_df"
   ]
  },
  {
   "cell_type": "markdown",
   "metadata": {},
   "source": [
    "## Reading Score by Grade "
   ]
  },
  {
   "cell_type": "markdown",
   "metadata": {},
   "source": [
    "* Perform the same operations as above for reading scores"
   ]
  },
  {
   "cell_type": "code",
   "execution_count": null,
   "metadata": {},
   "outputs": [],
   "source": [
    "ninth_reading_scores = student_data.loc[student_data[\"grade\"] == \"9th\"].groupby(\"school_name\")[\"reading_score\"].mean()\n",
    "tenth_reading_scores = student_data.loc[student_data[\"grade\"] == \"10th\"].groupby(\"school_name\")[\"reading_score\"].mean()\n",
    "eleventh_reading_scores = student_data.loc[student_data[\"grade\"] == \"11th\"].groupby(\"school_name\")[\"reading_score\"].mean()\n",
    "twelfth_reading_scores = student_data.loc[student_data[\"grade\"] == \"12th\"].groupby(\"school_name\")[\"reading_score\"].mean()\n",
    "\n",
    "reading_scores_by_grade_df = pd.DataFrame({\"9th\": ninth_reading_scores,\n",
    "                       \"10th\": tenth_reading_scores,\n",
    "                       \"11th\": eleventh_reading_scores,\n",
    "                       \"12th\": twelfth_reading_scores})\n",
    "del reading_scores_by_grade_df.index.name                       \n",
    "reading_scores_by_grade_df"
   ]
  },
  {
   "cell_type": "markdown",
   "metadata": {},
   "source": [
    "## Scores by School Spending"
   ]
  },
  {
   "cell_type": "markdown",
   "metadata": {},
   "source": [
    "* Create a table that breaks down school performances based on average Spending Ranges (Per Student). Use 4 reasonable bins to group school spending. Include in the table each of the following:\n",
    "  * Average Math Score\n",
    "  * Average Reading Score\n",
    "  * % Passing Math\n",
    "  * % Passing Reading\n",
    "  * Overall Passing Rate (Average of the above two)"
   ]
  },
  {
   "cell_type": "code",
   "execution_count": null,
   "metadata": {},
   "outputs": [],
   "source": [
    "budget_bins = [0, 585, 615, 645, 675]\n",
    "budget_names = [\"<$585\", \"$585-615\", \"$615-645\", \"$645-675\"]\n",
    "school_summary_df[\"Spending Ranges (Per Student)\"] = pd.cut(budget_per_student, bins=budget_bins, labels=budget_names)\n",
    "\n",
    "by_spending_math_score = school_summary_df.groupby(\"Spending Ranges (Per Student)\")[\"Average Math Score\"].mean()\n",
    "by_spending_reading_score = school_summary_df.groupby(\"Spending Ranges (Per Student)\")[\"Average Reading Score\"].mean()\n",
    "by_spending_math_passing = school_summary_df.groupby(\"Spending Ranges (Per Student)\")[\"% Passing Math\"].mean()\n",
    "by_spending_reading_passing = school_summary_df.groupby(\"Spending Ranges (Per Student)\")[\"% Passing Reading\"].mean()\n",
    "by_spending_overall_passing = school_summary_df.groupby(\"Spending Ranges (Per Student)\")[\"% Overall Passing Rate\"].mean()\n",
    "\n",
    "scores_by_school_spending = pd.DataFrame ({\"Average Math Score\": by_spending_math_score,\n",
    "                \"Average Reading Score\": by_spending_reading_score,\n",
    "                \"% Passing Math\": by_spending_math_passing,\n",
    "                \"% Passing Reading\": by_spending_reading_passing,\n",
    "                \"% Overall Passing Rate\": by_spending_overall_passing})\n",
    "scores_by_school_spending"
   ]
  },
  {
   "cell_type": "markdown",
   "metadata": {},
   "source": [
    "## Scores by School Size"
   ]
  },
  {
   "cell_type": "markdown",
   "metadata": {},
   "source": [
    "* Perform the same operations as above, based on school size."
   ]
  },
  {
   "cell_type": "code",
   "execution_count": null,
   "metadata": {},
   "outputs": [],
   "source": [
    "size_bins = [0, 1000, 2000, 5000]\n",
    "size_names = [\"Small (<1000)\", \"Medium (1000-2000)\", \"Large (2000-5000)\"]\n",
    "school_summary_df[\"School Size\"] = pd.cut(school_size, bins=size_bins, labels=size_names)\n",
    "\n",
    "by_size_math_score = school_summary_df.groupby(\"School Size\")[\"Average Math Score\"].mean()\n",
    "by_size_reading_score = school_summary_df.groupby(\"School Size\")[\"Average Reading Score\"].mean()\n",
    "by_size_math_passing = school_summary_df.groupby(\"School Size\")[\"% Passing Math\"].mean()\n",
    "by_size_reading_passing = school_summary_df.groupby(\"School Size\")[\"% Passing Reading\"].mean()\n",
    "by_size_overall_passing = school_summary_df.groupby(\"School Size\")[\"% Overall Passing Rate\"].mean()\n",
    "\n",
    "scores_by_school_size = pd.DataFrame ({\"Average Math Score\": by_size_math_score,\n",
    "                \"Average Reading Score\": by_size_reading_score,\n",
    "                \"% Passing Math\": by_size_math_passing,\n",
    "                \"% Passing Reading\": by_size_reading_passing,\n",
    "                \"% Overall Passing Rate\": by_size_overall_passing})\n",
    "scores_by_school_size"
   ]
  },
  {
   "cell_type": "markdown",
   "metadata": {},
   "source": [
    "## Scores by School Type"
   ]
  },
  {
   "cell_type": "markdown",
   "metadata": {},
   "source": [
    "* Perform the same operations as above, based on school type."
   ]
  },
  {
   "cell_type": "code",
   "execution_count": null,
   "metadata": {},
   "outputs": [],
   "source": [
    "scores_by_school_type = school_summary_df[[\"School Type\", \"Average Math Score\", \"Average Reading Score\", \"% Passing Math\", \"% Passing Reading\", \"% Overall Passing Rate\"]]\n",
    "scores_by_school_type = scores_by_school_type.groupby(\"School Type\").mean()\n",
    "scores_by_school_type"
   ]
  },
  {
   "cell_type": "code",
   "execution_count": null,
   "metadata": {},
   "outputs": [],
   "source": []
  }
 ],
 "metadata": {
  "anaconda-cloud": {},
  "kernel_info": {
   "name": "python3"
  },
  "kernelspec": {
   "display_name": "Python 3",
   "language": "python",
   "name": "python3"
  },
  "language_info": {
   "codemirror_mode": {
    "name": "ipython",
    "version": 3
   },
   "file_extension": ".py",
   "mimetype": "text/x-python",
   "name": "python",
   "nbconvert_exporter": "python",
   "pygments_lexer": "ipython3",
   "version": "3.7.0"
  },
  "nteract": {
   "version": "0.8.4"
  }
 },
 "nbformat": 4,
 "nbformat_minor": 1
}
